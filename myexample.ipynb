{
 "cells": [
  {
   "cell_type": "code",
   "execution_count": 6,
   "metadata": {},
   "outputs": [
    {
     "data": {
      "text/plain": [
       "int"
      ]
     },
     "execution_count": 6,
     "metadata": {},
     "output_type": "execute_result"
    }
   ],
   "source": [
    "a=2**5\n",
    "type(a)"
   ]
  },
  {
   "cell_type": "code",
   "execution_count": 34,
   "metadata": {},
   "outputs": [
    {
     "name": "stdout",
     "output_type": "stream",
     "text": [
      "SAL'U\n",
      "T\n",
      "\n",
      "\n",
      "S T\n",
      "\n",
      "\n",
      "A'\n",
      "\n",
      "\n",
      "\n",
      "2\n",
      "\n",
      "\n",
      "'U\n",
      "T\n",
      "\n",
      "\n",
      "T\n",
      "U'LAS\n"
     ]
    }
   ],
   "source": [
    "B=\"SAL'U\\nT\"\n",
    "print(B)\n",
    "print(\"\\n\")\n",
    "print(B[0] + \" \" +B[-1])\n",
    "print(\"\\n\")\n",
    "print(B[1::2])\n",
    "print(\"\\n\")\n",
    "print(len(B[1:4:2]))\n",
    "print(\"\\n\")\n",
    "print(B[3:])\n",
    "print(\"\\n\")\n",
    "print(B[::-1])"
   ]
  },
  {
   "cell_type": "code",
   "execution_count": 45,
   "metadata": {},
   "outputs": [
    {
     "name": "stdout",
     "output_type": "stream",
     "text": [
      "Sest\n",
      "SestSest\n",
      "['TE', 'T']\n"
     ]
    }
   ],
   "source": [
    "name = \"Test\"\n",
    "# name[0] = \"S\" # doesn't work\n",
    "newName = \"S\"+name[1:]\n",
    "print(newName)\n",
    "print(newName*2) # duplicate letters\n",
    "name = name.upper()\n",
    "print(name.split(\"S\")) #split on the letter you want, but can also be \" \" more commonly"
   ]
  },
  {
   "cell_type": "code",
   "execution_count": null,
   "metadata": {},
   "outputs": [],
   "source": []
  },
  {
   "cell_type": "code",
   "execution_count": null,
   "metadata": {},
   "outputs": [],
   "source": []
  }
 ],
 "metadata": {
  "kernelspec": {
   "display_name": "Python 3",
   "language": "python",
   "name": "python3"
  },
  "language_info": {
   "codemirror_mode": {
    "name": "ipython",
    "version": 3
   },
   "file_extension": ".py",
   "mimetype": "text/x-python",
   "name": "python",
   "nbconvert_exporter": "python",
   "pygments_lexer": "ipython3",
   "version": "3.7.1"
  }
 },
 "nbformat": 4,
 "nbformat_minor": 2
}
